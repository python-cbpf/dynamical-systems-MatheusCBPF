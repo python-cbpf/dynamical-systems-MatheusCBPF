{
 "cells": [
  {
   "cell_type": "code",
   "execution_count": 69,
   "metadata": {},
   "outputs": [],
   "source": [
    "import numpy as np\n",
    "import math\n",
    "import matplotlib.pyplot as plt\n",
    "from mpl_toolkits.mplot3d import Axes3D\n",
    "from scipy.sparse import csc_matrix\n",
    "from scipy.sparse.linalg import expm"
   ]
  },
  {
   "cell_type": "code",
   "execution_count": 70,
   "metadata": {},
   "outputs": [],
   "source": [
    "#Definir os parametros\n",
    "alphay = 1\n",
    "alphaz = 1\n",
    "j = 1\n",
    "tau = 1"
   ]
  },
  {
   "cell_type": "code",
   "execution_count": 71,
   "metadata": {},
   "outputs": [],
   "source": [
    "#Iniciar os operadores com zero\n",
    "Jz = np.zeros((2*j + 1 , 2*j + 1))\n",
    "Jy = np.zeros((2*j + 1 , 2*j + 1))\n",
    "Jz2 = np.zeros((2*j + 1 , 2*j + 1))"
   ]
  },
  {
   "cell_type": "code",
   "execution_count": 72,
   "metadata": {},
   "outputs": [
    {
     "data": {
      "text/plain": [
       "array([[-1.,  0.,  0.],\n",
       "       [ 0.,  0.,  0.],\n",
       "       [ 0.,  0.,  1.]])"
      ]
     },
     "execution_count": 72,
     "metadata": {},
     "output_type": "execute_result"
    }
   ],
   "source": [
    "#Definir Jz\n",
    "m=-j\n",
    "for i in range(0,2*j+1,1):\n",
    "    Jz[i,i] = m\n",
    "    m = m + 1\n",
    "Jz"
   ]
  },
  {
   "cell_type": "code",
   "execution_count": 73,
   "metadata": {},
   "outputs": [
    {
     "data": {
      "text/plain": [
       "array([[1., 0., 0.],\n",
       "       [0., 0., 0.],\n",
       "       [0., 0., 1.]])"
      ]
     },
     "execution_count": 73,
     "metadata": {},
     "output_type": "execute_result"
    }
   ],
   "source": [
    "#Definir Jz^2\n",
    "Jz2 = Jz**2\n",
    "Jz2"
   ]
  },
  {
   "cell_type": "code",
   "execution_count": 74,
   "metadata": {},
   "outputs": [
    {
     "name": "stdout",
     "output_type": "stream",
     "text": [
      "[[ 0.         -1.41421356  0.        ]\n",
      " [ 1.41421356  0.         -1.41421356]\n",
      " [-0.          1.41421356  0.        ]]\n"
     ]
    }
   ],
   "source": [
    "#Definir Jy\n",
    "\n",
    "#Jy[0,0] = 0\n",
    "#Jy[0,1] = \n",
    "m = -j\n",
    "for i in range(0,2*j):\n",
    "    if(i<2*j):\n",
    "        Jy[i,i+1] = -math.sqrt((j*(j + 1) - m*(m + 1)))\n",
    "        Jy[i,i-1] = math.sqrt((j*(j + 1) - m*(m - 1))) \n",
    "        Jy[i+1,i] = math.sqrt((j*(j + 1) - m*(m + 1)))\n",
    "        Jy[i-1,i] = -math.sqrt((j*(j + 1) - m*(m - 1))) \n",
    "        m = m + 1\n",
    "print(Jy)"
   ]
  },
  {
   "cell_type": "code",
   "execution_count": 79,
   "metadata": {},
   "outputs": [
    {
     "name": "stdout",
     "output_type": "stream",
     "text": [
      "[[0.-0.33333333j 0.-0.j         0.-0.j        ]\n",
      " [0.-0.j         0.-0.j         0.-0.j        ]\n",
      " [0.-0.j         0.-0.j         0.-0.33333333j]]\n"
     ]
    }
   ],
   "source": [
    "#Definindo o operador F e atualizando as matrizes \n",
    "term1 = (-1)*complex(0,1)*((tau*Jz2)/(2*j + 1))\n",
    "print(term1)"
   ]
  },
  {
   "cell_type": "code",
   "execution_count": null,
   "metadata": {},
   "outputs": [],
   "source": []
  }
 ],
 "metadata": {
  "kernelspec": {
   "display_name": "Python 3",
   "language": "python",
   "name": "python3"
  },
  "language_info": {
   "codemirror_mode": {
    "name": "ipython",
    "version": 2
   },
   "file_extension": ".py",
   "mimetype": "text/x-python",
   "name": "python",
   "nbconvert_exporter": "python",
   "pygments_lexer": "ipython2",
   "version": "2.7.16"
  }
 },
 "nbformat": 4,
 "nbformat_minor": 2
}
