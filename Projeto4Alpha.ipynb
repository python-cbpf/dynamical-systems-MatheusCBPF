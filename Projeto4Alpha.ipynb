{
 "cells": [
  {
   "cell_type": "code",
   "execution_count": 17,
   "metadata": {},
   "outputs": [],
   "source": [
    "#Fazendo o projeto 3 com uma matriz diagonal unitária aleatória \n",
    "import numpy as np\n",
    "import math\n",
    "import time\n",
    "import matplotlib.pyplot as plt\n",
    "from mpl_toolkits.mplot3d import Axes3D\n",
    "from scipy.sparse import csc_matrix\n",
    "from scipy.sparse.linalg import expm\n",
    "from numpy import linalg as la\n",
    "from scipy.stats import unitary_group\n",
    "import random\n",
    "import pylab"
   ]
  },
  {
   "cell_type": "code",
   "execution_count": 18,
   "metadata": {},
   "outputs": [],
   "source": [
    "#contando o tempo\n",
    "start_time = time.time()"
   ]
  },
  {
   "cell_type": "code",
   "execution_count": 31,
   "metadata": {},
   "outputs": [],
   "source": [
    "#Definir os parametros\n",
    "n = 2000\n",
    "#Select = 1 -> matriz Não Diagonal\n",
    "#Select = 2 -> Matriz Diagonal\n",
    "select = 2\n"
   ]
  },
  {
   "cell_type": "code",
   "execution_count": 32,
   "metadata": {},
   "outputs": [],
   "source": [
    "#Criando a matriz randominca sem ser diagoranl e depois diagonal  \n",
    "if(select == 1):   \n",
    "    x = unitary_group.rvs(n)\n",
    "    w=la.eigvals(x)\n",
    "    F = np.zeros((n , n), dtype = complex)\n",
    "    for i in range(0,n):\n",
    "        F[i,i] = w[i]\n",
    "if(select == 2):\n",
    "    F = np.zeros((n , n), dtype = complex)\n",
    "    for i in range(0,n):\n",
    "        F[i,i] = np.exp(complex(0,1)*np.random.random()*2*np.pi)"
   ]
  },
  {
   "cell_type": "code",
   "execution_count": 33,
   "metadata": {},
   "outputs": [],
   "source": [
    "#Criando o Phi\n",
    "phi = np.zeros(n, dtype = complex)"
   ]
  },
  {
   "cell_type": "code",
   "execution_count": 34,
   "metadata": {},
   "outputs": [],
   "source": [
    "for i in range(0, n):\n",
    "    phi[i] = np.angle(F[i,i])\n",
    "    #print(phi[i])"
   ]
  },
  {
   "cell_type": "code",
   "execution_count": 35,
   "metadata": {},
   "outputs": [],
   "source": [
    "#Pegando o módulo de Phi real\n",
    "phiR = np.sort(np.real(phi))"
   ]
  },
  {
   "cell_type": "code",
   "execution_count": 36,
   "metadata": {},
   "outputs": [
    {
     "data": {
      "image/png": "[encoded data removed]",
      "text/plain": [
       "<Figure size 864x648 with 1 Axes>"
      ]
     },
     "metadata": {
      "needs_background": "light"
     },
     "output_type": "display_data"
    }
   ],
   "source": [
    "plt.hist(phiR, bins = 100,range = (-np.pi,np.pi))\n",
    "plt.show()"
   ]
  },
  {
   "cell_type": "code",
   "execution_count": 37,
   "metadata": {},
   "outputs": [],
   "source": [
    "#Calculando a diferença \n",
    "dif = np.zeros(n-1)\n",
    "for i in range(0, n-1):\n",
    "    dif[i] = phiR[i+1] - phiR[i]\n",
    "#print(dif)"
   ]
  },
  {
   "cell_type": "code",
   "execution_count": 38,
   "metadata": {},
   "outputs": [],
   "source": [
    "#Definindo o PhiBarra(phi médio)\n",
    "phirbar=(2*np.pi)/(n)\n",
    "#Dividindo a diferença pelo tamanho do passo\n",
    "S = dif/phirbar"
   ]
  },
  {
   "cell_type": "code",
   "execution_count": 39,
   "metadata": {},
   "outputs": [],
   "source": [
    "#Definindo as funções de fundo, Exponencial e Gaussiana\n",
    "def P1(S):\n",
    "        return np.exp(-S)\n",
    "\n",
    "def P2(S):\n",
    "       return np.exp(- np.pi*S**2/4) * np.pi*S/2\n"
   ]
  },
  {
   "cell_type": "code",
   "execution_count": 40,
   "metadata": {},
   "outputs": [
    {
     "data": {
      "image/png": "[encoded data removed]",
      "text/plain": [
       "<Figure size 864x648 with 1 Axes>"
      ]
     },
     "metadata": {
      "needs_background": "light"
     },
     "output_type": "display_data"
    },
    {
     "name": "stdout",
     "output_type": "stream",
     "text": [
      "--- 1881.09730005 seconds ---\n"
     ]
    }
   ],
   "source": [
    " if(select == 2):\n",
    "    plt.rcParams['figure.figsize'] = (12,9)\n",
    "    #plt.suptitle('Matriz Diagonal', fontsize=17)\n",
    "    plt.hist(S, bins=200, density=1)\n",
    "    x = np.linspace(0,5,100) \n",
    "    y = P1(x) \n",
    "    pylab.plot(x,y) \n",
    "    pylab.show() \n",
    "    plt.show()\n",
    "if(select == 1):\n",
    "    plt.rcParams['figure.figsize'] = (12,9)\n",
    "    #plt.suptitle('Matriz Não Diagonal ', fontsize=17)\n",
    "    plt.hist(S, bins=200, density=1)\n",
    "    x = np.linspace(0,5,100) \n",
    "    y = P2(x) \n",
    "    pylab.plot(x,y) \n",
    "    pylab.show() \n",
    "    plt.show()\n",
    "\n",
    "print(\"--- %s seconds ---\" % (time.time() - start_time))\n",
    "\n",
    "#plt.hist(dif, bins = 200)\n",
    "#plt.rcParams['figure.figsize'] = (12,9)\n",
    "#plt.show()"
   ]
  },
  {
   "cell_type": "code",
   "execution_count": null,
   "metadata": {},
   "outputs": [],
   "source": []
  },
  {
   "cell_type": "code",
   "execution_count": null,
   "metadata": {},
   "outputs": [],
   "source": []
  }
 ],
 "metadata": {
  "kernelspec": {
   "display_name": "Python 3",
   "language": "python",
   "name": "python3"
  },
  "language_info": {
   "codemirror_mode": {
    "name": "ipython",
    "version": 2
   },
   "file_extension": ".py",
   "mimetype": "text/x-python",
   "name": "python",
   "nbconvert_exporter": "python",
   "pygments_lexer": "ipython2",
   "version": "2.7.16"
  }
 },
 "nbformat": 4,
 "nbformat_minor": 2
}
